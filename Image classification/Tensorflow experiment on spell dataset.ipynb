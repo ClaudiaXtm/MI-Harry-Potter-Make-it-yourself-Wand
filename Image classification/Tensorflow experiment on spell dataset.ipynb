{
 "cells": [
  {
   "cell_type": "code",
   "execution_count": 5,
   "metadata": {},
   "outputs": [
    {
     "name": "stderr",
     "output_type": "stream",
     "text": [
      "100%|██████████████████████████████████████████████████████████████████████████████| 128/128 [00:00<00:00, 3889.27it/s]\n"
     ]
    },
    {
     "name": "stdout",
     "output_type": "stream",
     "text": [
      "\n",
      "Training images: 128\n"
     ]
    },
    {
     "name": "stderr",
     "output_type": "stream",
     "text": [
      "100%|████████████████████████████████████████████████████████████████████████████████| 32/32 [00:00<00:00, 3997.55it/s]\n"
     ]
    },
    {
     "name": "stdout",
     "output_type": "stream",
     "text": [
      "Testing images:  32\n",
      "x_train shape: (4, 28, 28, 1)\n",
      "Number of images in x_train 4\n",
      "Number of images in x_test 32\n",
      "[0.01568628]\n",
      "2\n",
      "Epoch 1/1\n",
      "4/4 [==============================] - 1s 138ms/step - loss: 1.4198 - acc: 0.0000e+00\n",
      "32/32 [==============================] - 0s 4ms/step\n",
      "Test accuracy: 43.7500%\n",
      "1\n",
      "Saved model to disk\n"
     ]
    },
    {
     "data": {
      "image/png": "[encoded data removed]",
      "text/plain": [
       "<Figure size 432x288 with 1 Axes>"
      ]
     },
     "metadata": {
      "needs_background": "light"
     },
     "output_type": "display_data"
    }
   ],
   "source": [
    "import cv2\n",
    "import numpy as np\n",
    "import os\n",
    "from random import shuffle\n",
    "from tqdm import tqdm\n",
    "import tensorflow as tf\n",
    "import matplotlib.pyplot as plt\n",
    "%matplotlib inline\n",
    "\n",
    "train_data = 'spells/train/1'\n",
    "test_data = 'spells/test/1'\n",
    "\n",
    "def image_label(img):\n",
    "    label = img.split('.')[0]\n",
    "    global ohl\n",
    "    if label == \"AM\":\n",
    "        ohl = 0\n",
    "    elif label == \"Incendio\":\n",
    "        ohl = 1\n",
    "    elif label == \"Revelio\":\n",
    "        ohl = 2\n",
    "    elif label == \"WLeviosa\":\n",
    "        ohl = 3\n",
    "    return ohl\n",
    "\n",
    "def add_label_to_train_data():\n",
    "    train_images = []\n",
    "    for i in tqdm(os.listdir(train_data)):\n",
    "        path = os.path.join(train_data, i)\n",
    "        img = cv2.imread(path, cv2.IMREAD_GRAYSCALE)\n",
    "        img = cv2.resize(img, (28, 28))\n",
    "        train_images.append([np.array(img), image_label(i)])\n",
    "    shuffle(train_images)\n",
    "    print(\"\\nTraining images:\", len(train_images))\n",
    "    return train_images\n",
    "\n",
    "def add_label_to_test_data():\n",
    "    test_images = []\n",
    "    for i in tqdm(os.listdir(test_data)):\n",
    "        path = os.path.join(test_data, i)\n",
    "        img = cv2.imread(path, cv2.IMREAD_GRAYSCALE)\n",
    "        img = cv2.resize(img, (28, 28))\n",
    "        test_images.append([np.array(img), image_label(i)])\n",
    "    print(\"Testing images: \", len(test_images))\n",
    "    return test_images\n",
    "\n",
    "from keras.models import Sequential\n",
    "from keras.layers import *\n",
    "from keras.optimizers import *\n",
    "\n",
    "training_images = add_label_to_train_data()\n",
    "testing_images = add_label_to_test_data()\n",
    "x_train = np.array([i[0] for i in training_images]).reshape(-1,28,28,1)\n",
    "y_train = np.array([i[1] for i in training_images])\n",
    "x_test = np.array([i[0] for i in testing_images]).reshape(-1,28,28,1)\n",
    "y_test = np.array([i[1] for i in testing_images])\n",
    "\n",
    "b = 4\n",
    "x_train_2 = x_train[0:b,:,:]\n",
    "y_train_2 = y_train[0:b]\n",
    "x_train_2.shape\n",
    "y_train_2.shape\n",
    "x_train = x_train_2\n",
    "y_train = y_train_2\n",
    "\n",
    "x_train = x_train.reshape(x_train.shape[0], 28, 28, 1)\n",
    "x_test = x_test.reshape(x_test.shape[0], 28, 28, 1)\n",
    "\n",
    "x_train = x_train.astype('float32')\n",
    "x_test = x_test.astype('float32')\n",
    "\n",
    "x_train /= 255\n",
    "x_test /= 255\n",
    "\n",
    "print('x_train shape:', x_train.shape)\n",
    "\n",
    "print('Number of images in x_train', x_train.shape[0])\n",
    "print('Number of images in x_test', x_test.shape[0])\n",
    "\n",
    "\n",
    "a =2\n",
    "x_test_temp = x_train[a,:,:,0]\n",
    "x_test_temp.shape\n",
    "#print(y_train[image_index])\n",
    "plt.imshow(x_test_temp, cmap='Greys')\n",
    "print (x_train[a,10,10,:])\n",
    "print(y_train[a])\n",
    "\n",
    "\n",
    "input_shape = (28, 28, 1)\n",
    "\n",
    "from keras.models import Sequential\n",
    "from keras.layers import Dense, Conv2D, Dropout, Flatten, MaxPooling2D\n",
    "\n",
    "model = Sequential()\n",
    "model.add(Conv2D(28, kernel_size=(3,3), input_shape=input_shape))\n",
    "model.add(MaxPooling2D(pool_size=(2, 2)))\n",
    "model.add(Flatten()) # Flattening the 2D arrays for fully connected layers\n",
    "model.add(Dense(128, activation=tf.nn.relu))\n",
    "model.add(Dropout(0.2))\n",
    "model.add(Dense(4,activation=tf.nn.softmax))\n",
    "\n",
    "model.compile(optimizer='adam', \n",
    "              loss='sparse_categorical_crossentropy', \n",
    "              metrics=['accuracy'])\n",
    "\n",
    "model.fit(x=x_train,y=y_train, epochs=1)\n",
    "\n",
    "model.evaluate(x_test, y_test)\n",
    "\n",
    "score = model.evaluate(x_test, y_test, verbose = 0)\n",
    "accuracy = 100*score[1]\n",
    "print(\"Test accuracy: %.4f%%\" % accuracy)\n",
    "\n",
    "image_index = 8\n",
    "plt.imshow(x_test[image_index].reshape(28, 28),cmap='Greys')\n",
    "pred = model.predict(x_test[image_index].reshape(1, 28, 28, 1))\n",
    "print(pred.argmax())\n",
    "\n",
    "model_json = model.to_json()\n",
    "with open(\"model_for_spells.json\", \"w\") as json_file:\n",
    "    json_file.write(model_json)\n",
    "model.save_weights(\"model_for_spells.h5\")\n",
    "print(\"Saved model to disk\")"
   ]
  },
  {
   "cell_type": "code",
   "execution_count": 6,
   "metadata": {},
   "outputs": [
    {
     "name": "stdout",
     "output_type": "stream",
     "text": [
      "Loaded model from disk\n",
      "(4, 28, 28, 1) (4,)\n"
     ]
    }
   ],
   "source": [
    "from keras.models import model_from_json\n",
    "# load json and create model\n",
    "json_file = open('model_alldata.json', 'r')\n",
    "loaded_model_json = json_file.read()\n",
    "json_file.close()\n",
    "loaded_model = model_from_json(loaded_model_json)\n",
    "# load weights into new model\n",
    "loaded_model.load_weights(\"model_alldata.h5\")\n",
    "print(\"Loaded model from disk\")\n",
    " \n",
    "print(x_train.shape, y_train.shape)"
   ]
  },
  {
   "cell_type": "code",
   "execution_count": 7,
   "metadata": {},
   "outputs": [
    {
     "name": "stdout",
     "output_type": "stream",
     "text": [
      "Epoch 1/1\n",
      "4/4 [==============================] - 1s 152ms/step - loss: 2.0911 - acc: 0.2500\n"
     ]
    },
    {
     "data": {
      "text/plain": [
       "<keras.callbacks.History at 0x2e995079348>"
      ]
     },
     "execution_count": 7,
     "metadata": {},
     "output_type": "execute_result"
    }
   ],
   "source": [
    "loaded_model.compile(optimizer='adam', \n",
    "              loss='sparse_categorical_crossentropy', \n",
    "              metrics=['accuracy'])\n",
    "loaded_model.fit(x=x_train,y=y_train, epochs=1)\n"
   ]
  },
  {
   "cell_type": "code",
   "execution_count": 8,
   "metadata": {},
   "outputs": [
    {
     "name": "stdout",
     "output_type": "stream",
     "text": [
      "32/32 [==============================] - 0s 4ms/step\n"
     ]
    },
    {
     "data": {
      "text/plain": [
       "[2.240429401397705, 0.28125]"
      ]
     },
     "execution_count": 8,
     "metadata": {},
     "output_type": "execute_result"
    }
   ],
   "source": [
    "loaded_model.evaluate(x_test, y_test)"
   ]
  },
  {
   "cell_type": "code",
   "execution_count": null,
   "metadata": {},
   "outputs": [],
   "source": []
  }
 ],
 "metadata": {
  "kernelspec": {
   "display_name": "Python 3",
   "language": "python",
   "name": "python3"
  },
  "language_info": {
   "codemirror_mode": {
    "name": "ipython",
    "version": 3
   },
   "file_extension": ".py",
   "mimetype": "text/x-python",
   "name": "python",
   "nbconvert_exporter": "python",
   "pygments_lexer": "ipython3",
   "version": "3.7.4"
  }
 },
 "nbformat": 4,
 "nbformat_minor": 2
}
