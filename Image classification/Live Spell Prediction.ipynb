{
 "cells": [
  {
   "cell_type": "code",
   "execution_count": 3,
   "metadata": {},
   "outputs": [
    {
     "name": "stdout",
     "output_type": "stream",
     "text": [
      "Loaded model from disk\n",
      "Detected spell:  Arresto Momentum  -  [0]\n"
     ]
    }
   ],
   "source": [
    "from keras.models import model_from_json\n",
    "from PIL import *\n",
    "import numpy as np\n",
    "\n",
    "json_file = open('model_for_spells.json', 'r')\n",
    "loaded_model_json = json_file.read()\n",
    "json_file.close()\n",
    "loaded_model = model_from_json(loaded_model_json)\n",
    "loaded_model.load_weights(\"model_for_spells.h5\")\n",
    "print(\"Loaded model from disk\")\n",
    "\n",
    "img = Image.open('spells/validate_model/0.jpg').convert(\"L\")\n",
    "img = np.resize(img, (28,28,1))\n",
    "im2arr = np.array(img)\n",
    "im2arr = im2arr.reshape(1,28,28,1)\n",
    "y_pred = loaded_model.predict_classes(im2arr)\n",
    "\n",
    "global foundSpell \n",
    "if y_pred == 0:\n",
    "    foundSpell = \"Arresto Momentum\"\n",
    "elif y_pred == 1:\n",
    "    foundSpell = \"Incendio\"\n",
    "elif y_pred == 2:\n",
    "    foundSpell = \"Revelio\"\n",
    "elif y_pred == 3:\n",
    "    foundSpell = \"Wingardium Leviosa\"\n",
    "\n",
    "print(\"Detected spell: \", foundSpell, \" - \", y_pred)\n",
    "\n"
   ]
  },
  {
   "cell_type": "code",
   "execution_count": null,
   "metadata": {},
   "outputs": [],
   "source": []
  }
 ],
 "metadata": {
  "kernelspec": {
   "display_name": "Python 3",
   "language": "python",
   "name": "python3"
  },
  "language_info": {
   "codemirror_mode": {
    "name": "ipython",
    "version": 3
   },
   "file_extension": ".py",
   "mimetype": "text/x-python",
   "name": "python",
   "nbconvert_exporter": "python",
   "pygments_lexer": "ipython3",
   "version": "3.7.4"
  }
 },
 "nbformat": 4,
 "nbformat_minor": 2
}
